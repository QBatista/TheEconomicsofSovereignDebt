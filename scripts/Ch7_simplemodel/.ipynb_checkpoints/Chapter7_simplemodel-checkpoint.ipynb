{
 "cells": [
  {
   "cell_type": "markdown",
   "metadata": {},
   "source": [
    "# Chapter 7 figures 7.3, 7.4 and 7.5 "
   ]
  },
  {
   "cell_type": "markdown",
   "metadata": {},
   "source": [
    "This file solves the model of Chapter 7.6 and produces figures 7.3, 7.4, and 7.5"
   ]
  },
  {
   "cell_type": "code",
   "execution_count": 13,
   "metadata": {},
   "outputs": [
    {
     "name": "stderr",
     "output_type": "stream",
     "text": [
      "\u001b[32m\u001b[1m  Activating\u001b[22m\u001b[39m environment at `~/Github/TheEconomicsofSovereignDebt/scripts/Ch7_simplemodel/Project.toml`\n"
     ]
    },
    {
     "data": {
      "text/plain": [
       "solve_efficient (generic function with 1 method)"
      ]
     },
     "execution_count": 13,
     "metadata": {},
     "output_type": "execute_result"
    }
   ],
   "source": [
    "import Pkg; Pkg.activate(@__DIR__); Pkg.instantiate()\n",
    "include(\"longbonds_cont_time.jl\")"
   ]
  },
  {
   "cell_type": "code",
   "execution_count": 14,
   "metadata": {},
   "outputs": [
    {
     "name": "stderr",
     "output_type": "stream",
     "text": [
      "┌ Info: Precompiling PGFPlotsX [8314cec4-20b6-5062-9cdb-752b83310925]\n",
      "└ @ Base loading.jl:1342\n"
     ]
    }
   ],
   "source": [
    "using LaTeXStrings\n",
    "pgfplotsx();"
   ]
  },
  {
   "cell_type": "code",
   "execution_count": 15,
   "metadata": {},
   "outputs": [],
   "source": [
    "# define tolerance\n",
    "_BV_TOL = 10.0^(-12);\n",
    "_ODE_TOL = (abstol=10.0^(-6), reltol=10.0^(-6));"
   ]
  },
  {
   "cell_type": "markdown",
   "metadata": {},
   "source": [
    "## Benchmark"
   ]
  },
  {
   "cell_type": "code",
   "execution_count": 16,
   "metadata": {
    "lines_to_next_cell": 2
   },
   "outputs": [
    {
     "name": "stderr",
     "output_type": "stream",
     "text": [
      "┌ Info: Solving Competitive Equilibrium\n",
      "└ @ Main In[16]:3\n",
      "┌ Info: Solving Planner's Problem\n",
      "└ @ Main In[16]:6\n"
     ]
    }
   ],
   "source": [
    "m = LongBondModel(δ=BigFloat(0.2)); # using high precision\n",
    "#solve for the competitive equilibrium\n",
    "@info \"Solving Competitive Equilibrium\"\n",
    "sol = solve_equilibrium(m, bv_tol=_BV_TOL, ode_tol=_ODE_TOL);\n",
    "#solve for the efficient allocation\n",
    "@info \"Solving Planner's Problem\"\n",
    "eff = solve_efficient(m, ode_tol=_ODE_TOL);"
   ]
  },
  {
   "cell_type": "code",
   "execution_count": 17,
   "metadata": {},
   "outputs": [],
   "source": [
    "default(size=(600,400),xtickfontsize=14,ytickfontsize=14,yguidefontsize=16,xguidefontsize=16)"
   ]
  },
  {
   "cell_type": "code",
   "execution_count": null,
   "metadata": {},
   "outputs": [],
   "source": [
    "#plot consumption policy\n",
    "#Figure 7.3(a)\n",
    "f = plot(sol.b, sol.css, line=(2, :dash,), color=:gray,\n",
    "xlabel=\"\\$b\\$\", ylabel=L\"\\mathcal C(b)\"); \n",
    "plot!(f, sol.b, sol.c, line=(2), color=:black, legend=false)\n",
    "vline!(f, [sol.b̲, sol.b̅, sol.bI], line=(1,  :gray))\n",
    "savefig(f,joinpath(@__DIR__,\"..\",\"..\",\"output\",\"Chapter7\",\"fig_7_3a.pdf\" ))\n",
    "f"
   ]
  },
  {
   "cell_type": "code",
   "execution_count": null,
   "metadata": {},
   "outputs": [],
   "source": [
    "#plot eqm price schedule\n",
    "#Figure 7.3(b)\n",
    "f = plot(sol.b, sol.q, line=(2), color=:black, legend=false, \n",
    "xlabel=\"\\$b\\$\", ylabel=L\"q(b)\")\n",
    "hline!(f, [sol.m.q̲], line=(1, :dash, :gray))\n",
    "vline!(f, [sol.b̲, sol.b̅, sol.bI], line=(1, :gray))\n",
    "savefig(f,joinpath(@__DIR__,\"..\",\"..\",\"output\",\"Chapter7\",\"fig_7_3b.pdf\" ))\n",
    "f"
   ]
  },
  {
   "cell_type": "code",
   "execution_count": null,
   "metadata": {},
   "outputs": [],
   "source": [
    "#plot efficient consumption\n",
    "#Figure 7.3(c)\n",
    "f = plot(eff.b, eff.css, line=(2, :dash,), color=:gray,\n",
    "xlabel=\"\\$b\\$\", ylabel=L\"\\mathcal C^\\star(V(b))\"); \n",
    "plot!(f, eff.b, eff.c, line=(2), color=:black, legend=false)\n",
    "vline!(f, [eff.b̲, eff.b̅, eff.bI], line=(1,  :gray))\n",
    "savefig(f,joinpath(@__DIR__,\"..\",\"..\",\"output\",\"Chapter7\",\"fig_7_3c.pdf\" ))\n",
    "f"
   ]
  },
  {
   "cell_type": "code",
   "execution_count": null,
   "metadata": {},
   "outputs": [],
   "source": [
    "#plot efficient price\n",
    "#Figure 7.3(d)\n",
    "f = plot(eff.b, eff.q, line=(2), color=:black, legend=false, \n",
    "xlabel=\"\\$b\\$\", ylabel=L\"q^\\star(V(b))\")\n",
    "hline!(f, [eff.m.q̲], line=(1, :dash, :gray))\n",
    "vline!(f, [eff.b̲, eff.b̅, eff.bI], line=(1, :gray))\n",
    "savefig(f,joinpath(@__DIR__,\"..\",\"..\",\"output\",\"Chapter7\",\"fig_7_3d.pdf\" ))\n",
    "f"
   ]
  },
  {
   "cell_type": "code",
   "execution_count": null,
   "metadata": {},
   "outputs": [],
   "source": [
    "#Debt Laffer Curve\n",
    "#Figure 7.4\n",
    "diff = sol.b[end] - sol.b[end-1]\n",
    "f = plot(\n",
    "    vcat(\n",
    "        sol.b, \n",
    "        [sol.b[end] + i * diff for i in range(1, 4, step=1)]\n",
    "        ), \n",
    "    vcat(\n",
    "        sol.q .* sol.b, \n",
    "        [0.0 for i in range(1, 4, step=1)]\n",
    "        ), \n",
    "    line=(2), \n",
    "    color=:black)\n",
    "plot!(f, legend=false, color=:black)\n",
    "plot!(f,  ylabel=\"\\$q(b)\\\\times b\\$\", xlabel=\"\\$b\\$\")\n",
    "vline!(f, [sol.b̲], line=(1,  :gray))\n",
    "savefig(f,joinpath(@__DIR__,\"..\",\"..\",\"output\",\"Chapter7\",\"fig_7_4.pdf\" ))\n",
    "f"
   ]
  },
  {
   "cell_type": "code",
   "execution_count": null,
   "metadata": {
    "lines_to_next_cell": 2
   },
   "outputs": [],
   "source": [
    "#Pareto Frontier\n",
    "#Figure 7.5\n",
    "f = plot([eff.q .* eff.b], eff.v, legend=false, line=(2, :dash, :gray))\n",
    "for (δ, w) in zip((0.02, 0.1, 0.3, 0.7), (3.5, 2.5, 1.5, 1.))\n",
    "    sol = solve_equilibrium(LongBondModel(δ=δ))\n",
    "    bindex = findlast(b -> b < sol.b̲, sol.b)\n",
    "    plot!(f, [sol.q[1:bindex] .* sol.b[1:bindex]], sol.v[1:bindex], line=(w), alpha=1/w, color=:black)\n",
    "    plot!(f, [sol.q[bindex+1:end] .* sol.b[bindex+1:end]], sol.v[bindex+1:end], line=(w), alpha=1/w, color=:black)\n",
    "end\n",
    "plot!(f, xlabel=\"\\$q(b) \\\\times b\\$\", ylabel=\"\\$V(b)\\$\")\n",
    "savefig(f,joinpath(@__DIR__,\"..\",\"..\",\"output\",\"Chapter7\",\"fig_7_5.pdf\" ))\n",
    "f"
   ]
  },
  {
   "cell_type": "code",
   "execution_count": null,
   "metadata": {},
   "outputs": [],
   "source": []
  }
 ],
 "metadata": {
  "jupytext": {
   "cell_metadata_filter": "-all",
   "formats": "auto:light,ipynb",
   "notebook_metadata_filter": "-all",
   "text_representation": {
    "extension": ".jl",
    "format_name": "light"
   }
  },
  "kernelspec": {
   "display_name": "Julia 20 threads 1.6.3",
   "language": "julia",
   "name": "julia-20-threads-1.6"
  },
  "language_info": {
   "file_extension": ".jl",
   "mimetype": "application/julia",
   "name": "julia",
   "version": "1.6.3"
  }
 },
 "nbformat": 4,
 "nbformat_minor": 4
}
